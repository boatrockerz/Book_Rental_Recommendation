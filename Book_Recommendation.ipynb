{
 "cells": [
  {
   "cell_type": "code",
   "execution_count": 1,
   "id": "2a68d8ca-3966-4b0d-a11e-cf4ce1181c96",
   "metadata": {},
   "outputs": [],
   "source": [
    "import pandas as pd\n",
    "import numpy as np\n",
    "from sklearn.model_selection import train_test_split\n",
    "from sklearn.metrics import mean_squared_error\n",
    "from sklearn.neighbors import NearestNeighbors\n",
    "from math import sqrt"
   ]
  },
  {
   "cell_type": "code",
   "execution_count": 2,
   "id": "67a682ca-91b2-4451-8af0-a73e00fe76e2",
   "metadata": {},
   "outputs": [],
   "source": [
    "# Specify data types for columns in books and users datasets\n",
    "dtype_books = {\n",
    "    'isbn': 'str',\n",
    "    'book_title': 'str',\n",
    "    'book_author': 'str',\n",
    "    'year_of_publication': 'str',\n",
    "    'publisher': 'str'\n",
    "}\n",
    "\n",
    "dtype_users = {\n",
    "    'user_id': 'str',\n",
    "    'Location': 'str',\n",
    "    'Age': 'float'\n",
    "}\n",
    "\n",
    "# Load datasets with specified data types\n",
    "books = pd.read_csv('BX-Books.csv', dtype=dtype_books, low_memory=False)\n",
    "users = pd.read_csv('BX-Users.csv', dtype=dtype_users, low_memory=False)\n",
    "ratings = pd.read_csv('BX-Book-Ratings.csv')"
   ]
  },
  {
   "cell_type": "code",
   "execution_count": 3,
   "id": "91ed3a8c-4840-4fba-852d-8c8be25b79f9",
   "metadata": {},
   "outputs": [
    {
     "data": {
      "text/html": [
       "<div>\n",
       "<style scoped>\n",
       "    .dataframe tbody tr th:only-of-type {\n",
       "        vertical-align: middle;\n",
       "    }\n",
       "\n",
       "    .dataframe tbody tr th {\n",
       "        vertical-align: top;\n",
       "    }\n",
       "\n",
       "    .dataframe thead th {\n",
       "        text-align: right;\n",
       "    }\n",
       "</style>\n",
       "<table border=\"1\" class=\"dataframe\">\n",
       "  <thead>\n",
       "    <tr style=\"text-align: right;\">\n",
       "      <th></th>\n",
       "      <th>user_id</th>\n",
       "      <th>Location</th>\n",
       "      <th>Age</th>\n",
       "    </tr>\n",
       "  </thead>\n",
       "  <tbody>\n",
       "    <tr>\n",
       "      <th>0</th>\n",
       "      <td>1</td>\n",
       "      <td>nyc, new york, usa</td>\n",
       "      <td>NaN</td>\n",
       "    </tr>\n",
       "    <tr>\n",
       "      <th>1</th>\n",
       "      <td>2</td>\n",
       "      <td>stockton, california, usa</td>\n",
       "      <td>18.0</td>\n",
       "    </tr>\n",
       "    <tr>\n",
       "      <th>2</th>\n",
       "      <td>3</td>\n",
       "      <td>moscow, yukon territory, russia</td>\n",
       "      <td>NaN</td>\n",
       "    </tr>\n",
       "    <tr>\n",
       "      <th>3</th>\n",
       "      <td>4</td>\n",
       "      <td>porto, v.n.gaia, portugal</td>\n",
       "      <td>17.0</td>\n",
       "    </tr>\n",
       "    <tr>\n",
       "      <th>4</th>\n",
       "      <td>5</td>\n",
       "      <td>farnborough, hants, united kingdom</td>\n",
       "      <td>NaN</td>\n",
       "    </tr>\n",
       "  </tbody>\n",
       "</table>\n",
       "</div>"
      ],
      "text/plain": [
       "  user_id                            Location   Age\n",
       "0       1                  nyc, new york, usa   NaN\n",
       "1       2           stockton, california, usa  18.0\n",
       "2       3     moscow, yukon territory, russia   NaN\n",
       "3       4           porto, v.n.gaia, portugal  17.0\n",
       "4       5  farnborough, hants, united kingdom   NaN"
      ]
     },
     "execution_count": 3,
     "metadata": {},
     "output_type": "execute_result"
    }
   ],
   "source": [
    "users.head()"
   ]
  },
  {
   "cell_type": "code",
   "execution_count": 4,
   "id": "e9069a06-7d10-4199-9fee-f3915f8668c2",
   "metadata": {},
   "outputs": [
    {
     "data": {
      "text/plain": [
       "(278859, 3)"
      ]
     },
     "execution_count": 4,
     "metadata": {},
     "output_type": "execute_result"
    }
   ],
   "source": [
    "users.shape"
   ]
  },
  {
   "cell_type": "code",
   "execution_count": 5,
   "id": "96be01bf-6370-43af-8467-9ee1a5a77c82",
   "metadata": {},
   "outputs": [
    {
     "data": {
      "text/plain": [
       "(271379, 5)"
      ]
     },
     "execution_count": 5,
     "metadata": {},
     "output_type": "execute_result"
    }
   ],
   "source": [
    "books.shape"
   ]
  },
  {
   "cell_type": "code",
   "execution_count": 6,
   "id": "47477476-9b8c-463c-b26c-090201bfd354",
   "metadata": {},
   "outputs": [
    {
     "data": {
      "text/plain": [
       "(1048575, 3)"
      ]
     },
     "execution_count": 6,
     "metadata": {},
     "output_type": "execute_result"
    }
   ],
   "source": [
    "ratings.shape"
   ]
  },
  {
   "cell_type": "code",
   "execution_count": 7,
   "id": "96c5f4bd-69d2-4829-86c3-d7a9850a7042",
   "metadata": {},
   "outputs": [
    {
     "data": {
      "text/html": [
       "<div>\n",
       "<style scoped>\n",
       "    .dataframe tbody tr th:only-of-type {\n",
       "        vertical-align: middle;\n",
       "    }\n",
       "\n",
       "    .dataframe tbody tr th {\n",
       "        vertical-align: top;\n",
       "    }\n",
       "\n",
       "    .dataframe thead th {\n",
       "        text-align: right;\n",
       "    }\n",
       "</style>\n",
       "<table border=\"1\" class=\"dataframe\">\n",
       "  <thead>\n",
       "    <tr style=\"text-align: right;\">\n",
       "      <th></th>\n",
       "      <th>isbn</th>\n",
       "      <th>book_title</th>\n",
       "      <th>book_author</th>\n",
       "      <th>year_of_publication</th>\n",
       "      <th>publisher</th>\n",
       "    </tr>\n",
       "  </thead>\n",
       "  <tbody>\n",
       "    <tr>\n",
       "      <th>0</th>\n",
       "      <td>195153448</td>\n",
       "      <td>Classical Mythology</td>\n",
       "      <td>Mark P. O. Morford</td>\n",
       "      <td>2002</td>\n",
       "      <td>Oxford University Press</td>\n",
       "    </tr>\n",
       "    <tr>\n",
       "      <th>1</th>\n",
       "      <td>2005018</td>\n",
       "      <td>Clara Callan</td>\n",
       "      <td>Richard Bruce Wright</td>\n",
       "      <td>2001</td>\n",
       "      <td>HarperFlamingo Canada</td>\n",
       "    </tr>\n",
       "    <tr>\n",
       "      <th>2</th>\n",
       "      <td>60973129</td>\n",
       "      <td>Decision in Normandy</td>\n",
       "      <td>Carlo D'Este</td>\n",
       "      <td>1991</td>\n",
       "      <td>HarperPerennial</td>\n",
       "    </tr>\n",
       "    <tr>\n",
       "      <th>3</th>\n",
       "      <td>374157065</td>\n",
       "      <td>Flu: The Story of the Great Influenza Pandemic...</td>\n",
       "      <td>Gina Bari Kolata</td>\n",
       "      <td>1999</td>\n",
       "      <td>Farrar Straus Giroux</td>\n",
       "    </tr>\n",
       "    <tr>\n",
       "      <th>4</th>\n",
       "      <td>393045218</td>\n",
       "      <td>The Mummies of Urumchi</td>\n",
       "      <td>E. J. W. Barber</td>\n",
       "      <td>1999</td>\n",
       "      <td>W. W. Norton &amp;amp; Company</td>\n",
       "    </tr>\n",
       "  </tbody>\n",
       "</table>\n",
       "</div>"
      ],
      "text/plain": [
       "        isbn                                         book_title  \\\n",
       "0  195153448                                Classical Mythology   \n",
       "1    2005018                                       Clara Callan   \n",
       "2   60973129                               Decision in Normandy   \n",
       "3  374157065  Flu: The Story of the Great Influenza Pandemic...   \n",
       "4  393045218                             The Mummies of Urumchi   \n",
       "\n",
       "            book_author year_of_publication                   publisher  \n",
       "0    Mark P. O. Morford                2002     Oxford University Press  \n",
       "1  Richard Bruce Wright                2001       HarperFlamingo Canada  \n",
       "2          Carlo D'Este                1991             HarperPerennial  \n",
       "3      Gina Bari Kolata                1999        Farrar Straus Giroux  \n",
       "4       E. J. W. Barber                1999  W. W. Norton &amp; Company  "
      ]
     },
     "execution_count": 7,
     "metadata": {},
     "output_type": "execute_result"
    }
   ],
   "source": [
    "books.head()"
   ]
  },
  {
   "cell_type": "code",
   "execution_count": 8,
   "id": "59aed9ae-5a41-47b7-a143-a8991a467482",
   "metadata": {},
   "outputs": [
    {
     "data": {
      "text/plain": [
       "isbn                   0\n",
       "book_title             0\n",
       "book_author            2\n",
       "year_of_publication    0\n",
       "publisher              2\n",
       "dtype: int64"
      ]
     },
     "execution_count": 8,
     "metadata": {},
     "output_type": "execute_result"
    }
   ],
   "source": [
    "books.isnull().sum()"
   ]
  },
  {
   "cell_type": "code",
   "execution_count": 9,
   "id": "4e7bca2e-3953-4ea8-a1d9-81fabe681314",
   "metadata": {},
   "outputs": [
    {
     "name": "stdout",
     "output_type": "stream",
     "text": [
      "<class 'pandas.core.frame.DataFrame'>\n",
      "RangeIndex: 271379 entries, 0 to 271378\n",
      "Data columns (total 5 columns):\n",
      " #   Column               Non-Null Count   Dtype \n",
      "---  ------               --------------   ----- \n",
      " 0   isbn                 271379 non-null  object\n",
      " 1   book_title           271379 non-null  object\n",
      " 2   book_author          271377 non-null  object\n",
      " 3   year_of_publication  271379 non-null  object\n",
      " 4   publisher            271377 non-null  object\n",
      "dtypes: object(5)\n",
      "memory usage: 10.4+ MB\n"
     ]
    }
   ],
   "source": [
    "books.info()"
   ]
  },
  {
   "cell_type": "code",
   "execution_count": 10,
   "id": "0afbd035-0592-48c9-a71d-98683f92033d",
   "metadata": {},
   "outputs": [],
   "source": [
    "# Convert 'year_of_publication' to numeric, setting errors='coerce' will convert invalid parsing to NaN\n",
    "books['year_of_publication'] = pd.to_numeric(books['year_of_publication'], errors='coerce')\n",
    "\n",
    "# Fill NaN values with the mode of the column or a specific value\n",
    "books['year_of_publication'].fillna(books['year_of_publication'].mode()[0], inplace=True)\n",
    "\n",
    "# Convert the column to integer type\n",
    "books['year_of_publication'] = books['year_of_publication'].astype(int)\n",
    "books['isbn']=books['isbn'].astype(str)"
   ]
  },
  {
   "cell_type": "code",
   "execution_count": 11,
   "id": "ff0f4730-6b3e-48c0-ac33-52d9295fbaed",
   "metadata": {},
   "outputs": [
    {
     "name": "stdout",
     "output_type": "stream",
     "text": [
      "<class 'pandas.core.frame.DataFrame'>\n",
      "RangeIndex: 271379 entries, 0 to 271378\n",
      "Data columns (total 5 columns):\n",
      " #   Column               Non-Null Count   Dtype \n",
      "---  ------               --------------   ----- \n",
      " 0   isbn                 271379 non-null  object\n",
      " 1   book_title           271379 non-null  object\n",
      " 2   book_author          271377 non-null  object\n",
      " 3   year_of_publication  271379 non-null  int32 \n",
      " 4   publisher            271377 non-null  object\n",
      "dtypes: int32(1), object(4)\n",
      "memory usage: 9.3+ MB\n"
     ]
    }
   ],
   "source": [
    "books.info()"
   ]
  },
  {
   "cell_type": "code",
   "execution_count": 12,
   "id": "e053b0f0-4e8d-4075-b50e-1cd7386154b6",
   "metadata": {},
   "outputs": [],
   "source": [
    "books['year_of_publication'].replace('0', books['year_of_publication'].median(), inplace=True)\n",
    "books.fillna({'publisher': 'Unknown'}, inplace=True)\n",
    "books.fillna({'book_author': 'Unknown'}, inplace=True)"
   ]
  },
  {
   "cell_type": "code",
   "execution_count": 13,
   "id": "7ee73442-76a0-4e89-a739-c08408831c7b",
   "metadata": {},
   "outputs": [
    {
     "name": "stdout",
     "output_type": "stream",
     "text": [
      "<class 'pandas.core.frame.DataFrame'>\n",
      "RangeIndex: 271379 entries, 0 to 271378\n",
      "Data columns (total 5 columns):\n",
      " #   Column               Non-Null Count   Dtype \n",
      "---  ------               --------------   ----- \n",
      " 0   isbn                 271379 non-null  object\n",
      " 1   book_title           271379 non-null  object\n",
      " 2   book_author          271379 non-null  object\n",
      " 3   year_of_publication  271379 non-null  int32 \n",
      " 4   publisher            271379 non-null  object\n",
      "dtypes: int32(1), object(4)\n",
      "memory usage: 9.3+ MB\n"
     ]
    }
   ],
   "source": [
    "books.info()"
   ]
  },
  {
   "cell_type": "code",
   "execution_count": 14,
   "id": "e39f47d1-a78d-4e69-8bae-c6d4747028c9",
   "metadata": {},
   "outputs": [
    {
     "data": {
      "text/plain": [
       "isbn                   0\n",
       "book_title             0\n",
       "book_author            0\n",
       "year_of_publication    0\n",
       "publisher              0\n",
       "dtype: int64"
      ]
     },
     "execution_count": 14,
     "metadata": {},
     "output_type": "execute_result"
    }
   ],
   "source": [
    "books.isnull().sum()"
   ]
  },
  {
   "cell_type": "code",
   "execution_count": 15,
   "id": "93687181-6846-4dd6-9dc4-047d1f5d6d2d",
   "metadata": {},
   "outputs": [
    {
     "data": {
      "text/plain": [
       "user_id          0\n",
       "Location         1\n",
       "Age         110763\n",
       "dtype: int64"
      ]
     },
     "execution_count": 15,
     "metadata": {},
     "output_type": "execute_result"
    }
   ],
   "source": [
    "users.isnull().sum()"
   ]
  },
  {
   "cell_type": "code",
   "execution_count": 16,
   "id": "d2a010d9-5a56-4769-b485-23c78a869806",
   "metadata": {},
   "outputs": [
    {
     "name": "stdout",
     "output_type": "stream",
     "text": [
      "<class 'pandas.core.frame.DataFrame'>\n",
      "RangeIndex: 278859 entries, 0 to 278858\n",
      "Data columns (total 3 columns):\n",
      " #   Column    Non-Null Count   Dtype  \n",
      "---  ------    --------------   -----  \n",
      " 0   user_id   278859 non-null  object \n",
      " 1   Location  278858 non-null  object \n",
      " 2   Age       168096 non-null  float64\n",
      "dtypes: float64(1), object(2)\n",
      "memory usage: 6.4+ MB\n"
     ]
    }
   ],
   "source": [
    "users.info()"
   ]
  },
  {
   "cell_type": "code",
   "execution_count": 17,
   "id": "5e1dec77-b6a4-43c6-aecc-760a9d20868b",
   "metadata": {},
   "outputs": [],
   "source": [
    "users['Age'].fillna(users['Age'].median(),inplace=True)\n",
    "users['Location'].fillna('Unknown',inplace=True)"
   ]
  },
  {
   "cell_type": "code",
   "execution_count": 18,
   "id": "26572846-dfba-46b2-9713-a59de4ba4433",
   "metadata": {},
   "outputs": [
    {
     "data": {
      "text/plain": [
       "user_id     0\n",
       "Location    0\n",
       "Age         0\n",
       "dtype: int64"
      ]
     },
     "execution_count": 18,
     "metadata": {},
     "output_type": "execute_result"
    }
   ],
   "source": [
    "users.isnull().sum()"
   ]
  },
  {
   "cell_type": "code",
   "execution_count": 19,
   "id": "81efc118-e2a7-4d8d-8e8f-1ac23edbed8b",
   "metadata": {},
   "outputs": [
    {
     "data": {
      "text/html": [
       "<div>\n",
       "<style scoped>\n",
       "    .dataframe tbody tr th:only-of-type {\n",
       "        vertical-align: middle;\n",
       "    }\n",
       "\n",
       "    .dataframe tbody tr th {\n",
       "        vertical-align: top;\n",
       "    }\n",
       "\n",
       "    .dataframe thead th {\n",
       "        text-align: right;\n",
       "    }\n",
       "</style>\n",
       "<table border=\"1\" class=\"dataframe\">\n",
       "  <thead>\n",
       "    <tr style=\"text-align: right;\">\n",
       "      <th></th>\n",
       "      <th>Age</th>\n",
       "    </tr>\n",
       "  </thead>\n",
       "  <tbody>\n",
       "    <tr>\n",
       "      <th>count</th>\n",
       "      <td>278859.000000</td>\n",
       "    </tr>\n",
       "    <tr>\n",
       "      <th>mean</th>\n",
       "      <td>33.658562</td>\n",
       "    </tr>\n",
       "    <tr>\n",
       "      <th>std</th>\n",
       "      <td>11.282598</td>\n",
       "    </tr>\n",
       "    <tr>\n",
       "      <th>min</th>\n",
       "      <td>0.000000</td>\n",
       "    </tr>\n",
       "    <tr>\n",
       "      <th>25%</th>\n",
       "      <td>29.000000</td>\n",
       "    </tr>\n",
       "    <tr>\n",
       "      <th>50%</th>\n",
       "      <td>32.000000</td>\n",
       "    </tr>\n",
       "    <tr>\n",
       "      <th>75%</th>\n",
       "      <td>35.000000</td>\n",
       "    </tr>\n",
       "    <tr>\n",
       "      <th>max</th>\n",
       "      <td>244.000000</td>\n",
       "    </tr>\n",
       "  </tbody>\n",
       "</table>\n",
       "</div>"
      ],
      "text/plain": [
       "                 Age\n",
       "count  278859.000000\n",
       "mean       33.658562\n",
       "std        11.282598\n",
       "min         0.000000\n",
       "25%        29.000000\n",
       "50%        32.000000\n",
       "75%        35.000000\n",
       "max       244.000000"
      ]
     },
     "execution_count": 19,
     "metadata": {},
     "output_type": "execute_result"
    }
   ],
   "source": [
    "users.describe()"
   ]
  },
  {
   "cell_type": "code",
   "execution_count": 20,
   "id": "b64b32c7-6a5f-4e8e-bdea-5ef8f4e4065e",
   "metadata": {},
   "outputs": [],
   "source": [
    "# Data Cleaning\n",
    "users = users[(users['Age'] >= 5) & (users['Age'] <= 100)]"
   ]
  },
  {
   "cell_type": "code",
   "execution_count": 21,
   "id": "41759a75-e09d-4dec-b1a7-d2ebf1772ab9",
   "metadata": {},
   "outputs": [
    {
     "data": {
      "text/html": [
       "<div>\n",
       "<style scoped>\n",
       "    .dataframe tbody tr th:only-of-type {\n",
       "        vertical-align: middle;\n",
       "    }\n",
       "\n",
       "    .dataframe tbody tr th {\n",
       "        vertical-align: top;\n",
       "    }\n",
       "\n",
       "    .dataframe thead th {\n",
       "        text-align: right;\n",
       "    }\n",
       "</style>\n",
       "<table border=\"1\" class=\"dataframe\">\n",
       "  <thead>\n",
       "    <tr style=\"text-align: right;\">\n",
       "      <th></th>\n",
       "      <th>Age</th>\n",
       "    </tr>\n",
       "  </thead>\n",
       "  <tbody>\n",
       "    <tr>\n",
       "      <th>count</th>\n",
       "      <td>277611.000000</td>\n",
       "    </tr>\n",
       "    <tr>\n",
       "      <th>mean</th>\n",
       "      <td>33.650767</td>\n",
       "    </tr>\n",
       "    <tr>\n",
       "      <th>std</th>\n",
       "      <td>10.654258</td>\n",
       "    </tr>\n",
       "    <tr>\n",
       "      <th>min</th>\n",
       "      <td>5.000000</td>\n",
       "    </tr>\n",
       "    <tr>\n",
       "      <th>25%</th>\n",
       "      <td>29.000000</td>\n",
       "    </tr>\n",
       "    <tr>\n",
       "      <th>50%</th>\n",
       "      <td>32.000000</td>\n",
       "    </tr>\n",
       "    <tr>\n",
       "      <th>75%</th>\n",
       "      <td>35.000000</td>\n",
       "    </tr>\n",
       "    <tr>\n",
       "      <th>max</th>\n",
       "      <td>100.000000</td>\n",
       "    </tr>\n",
       "  </tbody>\n",
       "</table>\n",
       "</div>"
      ],
      "text/plain": [
       "                 Age\n",
       "count  277611.000000\n",
       "mean       33.650767\n",
       "std        10.654258\n",
       "min         5.000000\n",
       "25%        29.000000\n",
       "50%        32.000000\n",
       "75%        35.000000\n",
       "max       100.000000"
      ]
     },
     "execution_count": 21,
     "metadata": {},
     "output_type": "execute_result"
    }
   ],
   "source": [
    "users.describe()"
   ]
  },
  {
   "cell_type": "code",
   "execution_count": 22,
   "id": "bee350c5-c726-44ef-9d53-ed57e9e6b9ff",
   "metadata": {},
   "outputs": [
    {
     "data": {
      "text/plain": [
       "user_id    0\n",
       "isbn       0\n",
       "rating     0\n",
       "dtype: int64"
      ]
     },
     "execution_count": 22,
     "metadata": {},
     "output_type": "execute_result"
    }
   ],
   "source": [
    "ratings.isnull().sum()"
   ]
  },
  {
   "cell_type": "code",
   "execution_count": 23,
   "id": "6e09f137-3832-43ac-b0eb-6db71c92c392",
   "metadata": {},
   "outputs": [
    {
     "name": "stdout",
     "output_type": "stream",
     "text": [
      "<class 'pandas.core.frame.DataFrame'>\n",
      "RangeIndex: 271379 entries, 0 to 271378\n",
      "Data columns (total 5 columns):\n",
      " #   Column               Non-Null Count   Dtype \n",
      "---  ------               --------------   ----- \n",
      " 0   isbn                 271379 non-null  object\n",
      " 1   book_title           271379 non-null  object\n",
      " 2   book_author          271379 non-null  object\n",
      " 3   year_of_publication  271379 non-null  int32 \n",
      " 4   publisher            271379 non-null  object\n",
      "dtypes: int32(1), object(4)\n",
      "memory usage: 9.3+ MB\n"
     ]
    }
   ],
   "source": [
    "books.info()"
   ]
  },
  {
   "cell_type": "code",
   "execution_count": 24,
   "id": "f605f11b-cb98-47f1-8c03-7ea2d5156033",
   "metadata": {},
   "outputs": [
    {
     "name": "stdout",
     "output_type": "stream",
     "text": [
      "<class 'pandas.core.frame.DataFrame'>\n",
      "RangeIndex: 1048575 entries, 0 to 1048574\n",
      "Data columns (total 3 columns):\n",
      " #   Column   Non-Null Count    Dtype \n",
      "---  ------   --------------    ----- \n",
      " 0   user_id  1048575 non-null  int64 \n",
      " 1   isbn     1048575 non-null  object\n",
      " 2   rating   1048575 non-null  int64 \n",
      "dtypes: int64(2), object(1)\n",
      "memory usage: 24.0+ MB\n"
     ]
    }
   ],
   "source": [
    "ratings.info()"
   ]
  },
  {
   "cell_type": "code",
   "execution_count": 25,
   "id": "399924c6-b21f-4b06-afdc-b0c8b750b7c7",
   "metadata": {},
   "outputs": [
    {
     "name": "stdout",
     "output_type": "stream",
     "text": [
      "<class 'pandas.core.frame.DataFrame'>\n",
      "Index: 277611 entries, 0 to 278858\n",
      "Data columns (total 3 columns):\n",
      " #   Column    Non-Null Count   Dtype  \n",
      "---  ------    --------------   -----  \n",
      " 0   user_id   277611 non-null  object \n",
      " 1   Location  277611 non-null  object \n",
      " 2   Age       277611 non-null  float64\n",
      "dtypes: float64(1), object(2)\n",
      "memory usage: 8.5+ MB\n"
     ]
    }
   ],
   "source": [
    "users.info()"
   ]
  },
  {
   "cell_type": "code",
   "execution_count": 26,
   "id": "872295e9-2ccb-4d38-bd40-9738da8e3eaa",
   "metadata": {},
   "outputs": [
    {
     "data": {
      "text/plain": [
       "0"
      ]
     },
     "execution_count": 26,
     "metadata": {},
     "output_type": "execute_result"
    }
   ],
   "source": [
    "users.duplicated().sum()"
   ]
  },
  {
   "cell_type": "code",
   "execution_count": 27,
   "id": "5d82debf-4db0-41ed-ab84-172aac97a9bb",
   "metadata": {},
   "outputs": [
    {
     "data": {
      "text/plain": [
       "0"
      ]
     },
     "execution_count": 27,
     "metadata": {},
     "output_type": "execute_result"
    }
   ],
   "source": [
    "books.duplicated().sum()"
   ]
  },
  {
   "cell_type": "code",
   "execution_count": 28,
   "id": "df3bd5ff-7bad-4de5-bfb5-742972cb30ed",
   "metadata": {},
   "outputs": [
    {
     "data": {
      "text/plain": [
       "146"
      ]
     },
     "execution_count": 28,
     "metadata": {},
     "output_type": "execute_result"
    }
   ],
   "source": [
    "ratings.duplicated().sum()"
   ]
  },
  {
   "cell_type": "code",
   "execution_count": 29,
   "id": "55cd5ad0-0d01-4758-be6d-1cc951d0fc78",
   "metadata": {},
   "outputs": [
    {
     "name": "stdout",
     "output_type": "stream",
     "text": [
      "Non-numeric user_id values:\n",
      "                user_id Location   Age\n",
      "275081  , milan, italy\"  Unknown  32.0\n"
     ]
    }
   ],
   "source": [
    "# Step 1: Identify non-numeric values in users dataframe\n",
    "print(\"Non-numeric user_id values:\")\n",
    "print(users[~users['user_id'].apply(lambda x: x.isnumeric() if pd.notnull(x) else True)])"
   ]
  },
  {
   "cell_type": "code",
   "execution_count": 30,
   "id": "cd157eda-9ba8-4fb1-9e43-740da7c29922",
   "metadata": {},
   "outputs": [],
   "source": [
    "# Step 3: Convert to numeric, coercing errors to NaN\n",
    "users['user_id'] = pd.to_numeric(users['user_id'], errors='coerce')"
   ]
  },
  {
   "cell_type": "code",
   "execution_count": 31,
   "id": "a73a02e3-0658-4064-a849-04f634e38e86",
   "metadata": {},
   "outputs": [],
   "source": [
    "# Step 4: Handle NaN values resulting from coercion (e.g., drop or fill)\n",
    "users.dropna(subset=['user_id'], inplace=True)  # Drop rows with NaNs in 'user_id'"
   ]
  },
  {
   "cell_type": "code",
   "execution_count": 32,
   "id": "d6030dec-29fb-430a-8a09-ddcd25105d9a",
   "metadata": {},
   "outputs": [
    {
     "data": {
      "text/plain": [
       "user_id     0\n",
       "Location    0\n",
       "Age         0\n",
       "dtype: int64"
      ]
     },
     "execution_count": 32,
     "metadata": {},
     "output_type": "execute_result"
    }
   ],
   "source": [
    "users.isnull().sum()"
   ]
  },
  {
   "cell_type": "code",
   "execution_count": 33,
   "id": "66ab1141-81e0-4f6f-b913-3303fe89035f",
   "metadata": {},
   "outputs": [
    {
     "name": "stdout",
     "output_type": "stream",
     "text": [
      "<class 'pandas.core.frame.DataFrame'>\n",
      "Index: 277610 entries, 0 to 278858\n",
      "Data columns (total 3 columns):\n",
      " #   Column    Non-Null Count   Dtype  \n",
      "---  ------    --------------   -----  \n",
      " 0   user_id   277610 non-null  float64\n",
      " 1   Location  277610 non-null  object \n",
      " 2   Age       277610 non-null  float64\n",
      "dtypes: float64(2), object(1)\n",
      "memory usage: 8.5+ MB\n"
     ]
    }
   ],
   "source": [
    "users.info()"
   ]
  },
  {
   "cell_type": "code",
   "execution_count": 34,
   "id": "87b18a2c-9363-4ceb-8827-49f0bb49efa7",
   "metadata": {},
   "outputs": [],
   "source": [
    "users['user_id']=users['user_id'].astype('int64')\n",
    "users['Age']=users['Age'].astype('int64')"
   ]
  },
  {
   "cell_type": "code",
   "execution_count": 35,
   "id": "4e296efe-28bd-4c96-ba48-4565ff8750d8",
   "metadata": {},
   "outputs": [
    {
     "name": "stdout",
     "output_type": "stream",
     "text": [
      "<class 'pandas.core.frame.DataFrame'>\n",
      "Index: 277610 entries, 0 to 278858\n",
      "Data columns (total 3 columns):\n",
      " #   Column    Non-Null Count   Dtype \n",
      "---  ------    --------------   ----- \n",
      " 0   user_id   277610 non-null  int64 \n",
      " 1   Location  277610 non-null  object\n",
      " 2   Age       277610 non-null  int64 \n",
      "dtypes: int64(2), object(1)\n",
      "memory usage: 8.5+ MB\n"
     ]
    }
   ],
   "source": [
    "users.info()"
   ]
  },
  {
   "cell_type": "code",
   "execution_count": 36,
   "id": "fce97712-c4ac-4fb4-815d-c572705c0a81",
   "metadata": {},
   "outputs": [
    {
     "name": "stdout",
     "output_type": "stream",
     "text": [
      "<class 'pandas.core.frame.DataFrame'>\n",
      "RangeIndex: 1048575 entries, 0 to 1048574\n",
      "Data columns (total 3 columns):\n",
      " #   Column   Non-Null Count    Dtype \n",
      "---  ------   --------------    ----- \n",
      " 0   user_id  1048575 non-null  int64 \n",
      " 1   isbn     1048575 non-null  object\n",
      " 2   rating   1048575 non-null  int64 \n",
      "dtypes: int64(2), object(1)\n",
      "memory usage: 24.0+ MB\n"
     ]
    }
   ],
   "source": [
    "ratings.info()"
   ]
  },
  {
   "cell_type": "code",
   "execution_count": 37,
   "id": "0c035cfc-8eee-4f18-8e17-a8391eb649dd",
   "metadata": {},
   "outputs": [
    {
     "name": "stdout",
     "output_type": "stream",
     "text": [
      "Number of unique users: 95513\n",
      "Number of unique books: 322102\n"
     ]
    }
   ],
   "source": [
    "# Number of unique users and books\n",
    "num_unique_users = ratings['user_id'].nunique()\n",
    "num_unique_books = ratings['isbn'].nunique()\n",
    "print(f'Number of unique users: {num_unique_users}')\n",
    "print(f'Number of unique books: {num_unique_books}')"
   ]
  },
  {
   "cell_type": "code",
   "execution_count": 38,
   "id": "6c89daef-5798-4846-97fa-5f949dcb5ea8",
   "metadata": {},
   "outputs": [
    {
     "name": "stdout",
     "output_type": "stream",
     "text": [
      "<class 'pandas.core.frame.DataFrame'>\n",
      "RangeIndex: 271379 entries, 0 to 271378\n",
      "Data columns (total 5 columns):\n",
      " #   Column               Non-Null Count   Dtype \n",
      "---  ------               --------------   ----- \n",
      " 0   isbn                 271379 non-null  object\n",
      " 1   book_title           271379 non-null  object\n",
      " 2   book_author          271379 non-null  object\n",
      " 3   year_of_publication  271379 non-null  int32 \n",
      " 4   publisher            271379 non-null  object\n",
      "dtypes: int32(1), object(4)\n",
      "memory usage: 9.3+ MB\n"
     ]
    }
   ],
   "source": [
    "books.info()"
   ]
  },
  {
   "cell_type": "code",
   "execution_count": 39,
   "id": "3efa6d54-8c8e-4817-866e-d5bc6f883fdc",
   "metadata": {},
   "outputs": [],
   "source": [
    "# Convert ISBN to numeric numbers in the correct order\n",
    "isbn_to_numeric = {isbn: idx for idx, isbn in enumerate(books['isbn'].unique())}\n",
    "books['ISBN_numeric'] = books['isbn'].map(isbn_to_numeric)"
   ]
  },
  {
   "cell_type": "code",
   "execution_count": 40,
   "id": "14862925-ea34-4251-9d23-3de0b276ce4c",
   "metadata": {},
   "outputs": [],
   "source": [
    "# Convert user_id to numeric numbers in the correct order\n",
    "user_to_numeric = {user: idx for idx, user in enumerate(users['user_id'].unique())}\n",
    "users['User_ID_numeric'] = users['user_id'].map(user_to_numeric)"
   ]
  },
  {
   "cell_type": "code",
   "execution_count": 41,
   "id": "3bf101ac-b057-4780-b9aa-b4e34b520343",
   "metadata": {},
   "outputs": [
    {
     "data": {
      "text/html": [
       "<div>\n",
       "<style scoped>\n",
       "    .dataframe tbody tr th:only-of-type {\n",
       "        vertical-align: middle;\n",
       "    }\n",
       "\n",
       "    .dataframe tbody tr th {\n",
       "        vertical-align: top;\n",
       "    }\n",
       "\n",
       "    .dataframe thead th {\n",
       "        text-align: right;\n",
       "    }\n",
       "</style>\n",
       "<table border=\"1\" class=\"dataframe\">\n",
       "  <thead>\n",
       "    <tr style=\"text-align: right;\">\n",
       "      <th></th>\n",
       "      <th>isbn</th>\n",
       "      <th>book_title</th>\n",
       "      <th>book_author</th>\n",
       "      <th>year_of_publication</th>\n",
       "      <th>publisher</th>\n",
       "      <th>ISBN_numeric</th>\n",
       "    </tr>\n",
       "  </thead>\n",
       "  <tbody>\n",
       "    <tr>\n",
       "      <th>0</th>\n",
       "      <td>195153448</td>\n",
       "      <td>Classical Mythology</td>\n",
       "      <td>Mark P. O. Morford</td>\n",
       "      <td>2002</td>\n",
       "      <td>Oxford University Press</td>\n",
       "      <td>0</td>\n",
       "    </tr>\n",
       "    <tr>\n",
       "      <th>1</th>\n",
       "      <td>2005018</td>\n",
       "      <td>Clara Callan</td>\n",
       "      <td>Richard Bruce Wright</td>\n",
       "      <td>2001</td>\n",
       "      <td>HarperFlamingo Canada</td>\n",
       "      <td>1</td>\n",
       "    </tr>\n",
       "    <tr>\n",
       "      <th>2</th>\n",
       "      <td>60973129</td>\n",
       "      <td>Decision in Normandy</td>\n",
       "      <td>Carlo D'Este</td>\n",
       "      <td>1991</td>\n",
       "      <td>HarperPerennial</td>\n",
       "      <td>2</td>\n",
       "    </tr>\n",
       "    <tr>\n",
       "      <th>3</th>\n",
       "      <td>374157065</td>\n",
       "      <td>Flu: The Story of the Great Influenza Pandemic...</td>\n",
       "      <td>Gina Bari Kolata</td>\n",
       "      <td>1999</td>\n",
       "      <td>Farrar Straus Giroux</td>\n",
       "      <td>3</td>\n",
       "    </tr>\n",
       "    <tr>\n",
       "      <th>4</th>\n",
       "      <td>393045218</td>\n",
       "      <td>The Mummies of Urumchi</td>\n",
       "      <td>E. J. W. Barber</td>\n",
       "      <td>1999</td>\n",
       "      <td>W. W. Norton &amp;amp; Company</td>\n",
       "      <td>4</td>\n",
       "    </tr>\n",
       "    <tr>\n",
       "      <th>5</th>\n",
       "      <td>399135782</td>\n",
       "      <td>The Kitchen God's Wife</td>\n",
       "      <td>Amy Tan</td>\n",
       "      <td>1991</td>\n",
       "      <td>Putnam Pub Group</td>\n",
       "      <td>5</td>\n",
       "    </tr>\n",
       "    <tr>\n",
       "      <th>6</th>\n",
       "      <td>425176428</td>\n",
       "      <td>What If?: The World's Foremost Military Histor...</td>\n",
       "      <td>Robert Cowley</td>\n",
       "      <td>2000</td>\n",
       "      <td>Berkley Publishing Group</td>\n",
       "      <td>6</td>\n",
       "    </tr>\n",
       "    <tr>\n",
       "      <th>7</th>\n",
       "      <td>671870432</td>\n",
       "      <td>PLEADING GUILTY</td>\n",
       "      <td>Scott Turow</td>\n",
       "      <td>1993</td>\n",
       "      <td>Audioworks</td>\n",
       "      <td>7</td>\n",
       "    </tr>\n",
       "    <tr>\n",
       "      <th>8</th>\n",
       "      <td>679425608</td>\n",
       "      <td>Under the Black Flag: The Romance and the Real...</td>\n",
       "      <td>David Cordingly</td>\n",
       "      <td>1996</td>\n",
       "      <td>Random House</td>\n",
       "      <td>8</td>\n",
       "    </tr>\n",
       "    <tr>\n",
       "      <th>9</th>\n",
       "      <td>074322678X</td>\n",
       "      <td>Where You'll Find Me: And Other Stories</td>\n",
       "      <td>Ann Beattie</td>\n",
       "      <td>2002</td>\n",
       "      <td>Scribner</td>\n",
       "      <td>9</td>\n",
       "    </tr>\n",
       "  </tbody>\n",
       "</table>\n",
       "</div>"
      ],
      "text/plain": [
       "         isbn                                         book_title  \\\n",
       "0   195153448                                Classical Mythology   \n",
       "1     2005018                                       Clara Callan   \n",
       "2    60973129                               Decision in Normandy   \n",
       "3   374157065  Flu: The Story of the Great Influenza Pandemic...   \n",
       "4   393045218                             The Mummies of Urumchi   \n",
       "5   399135782                             The Kitchen God's Wife   \n",
       "6   425176428  What If?: The World's Foremost Military Histor...   \n",
       "7   671870432                                    PLEADING GUILTY   \n",
       "8   679425608  Under the Black Flag: The Romance and the Real...   \n",
       "9  074322678X            Where You'll Find Me: And Other Stories   \n",
       "\n",
       "            book_author  year_of_publication                   publisher  \\\n",
       "0    Mark P. O. Morford                 2002     Oxford University Press   \n",
       "1  Richard Bruce Wright                 2001       HarperFlamingo Canada   \n",
       "2          Carlo D'Este                 1991             HarperPerennial   \n",
       "3      Gina Bari Kolata                 1999        Farrar Straus Giroux   \n",
       "4       E. J. W. Barber                 1999  W. W. Norton &amp; Company   \n",
       "5               Amy Tan                 1991            Putnam Pub Group   \n",
       "6         Robert Cowley                 2000    Berkley Publishing Group   \n",
       "7           Scott Turow                 1993                  Audioworks   \n",
       "8       David Cordingly                 1996                Random House   \n",
       "9           Ann Beattie                 2002                    Scribner   \n",
       "\n",
       "   ISBN_numeric  \n",
       "0             0  \n",
       "1             1  \n",
       "2             2  \n",
       "3             3  \n",
       "4             4  \n",
       "5             5  \n",
       "6             6  \n",
       "7             7  \n",
       "8             8  \n",
       "9             9  "
      ]
     },
     "execution_count": 41,
     "metadata": {},
     "output_type": "execute_result"
    }
   ],
   "source": [
    "books.head(10)"
   ]
  },
  {
   "cell_type": "code",
   "execution_count": 42,
   "id": "a29a0120-924a-4091-912d-f3b7bc37a7d0",
   "metadata": {},
   "outputs": [
    {
     "data": {
      "text/html": [
       "<div>\n",
       "<style scoped>\n",
       "    .dataframe tbody tr th:only-of-type {\n",
       "        vertical-align: middle;\n",
       "    }\n",
       "\n",
       "    .dataframe tbody tr th {\n",
       "        vertical-align: top;\n",
       "    }\n",
       "\n",
       "    .dataframe thead th {\n",
       "        text-align: right;\n",
       "    }\n",
       "</style>\n",
       "<table border=\"1\" class=\"dataframe\">\n",
       "  <thead>\n",
       "    <tr style=\"text-align: right;\">\n",
       "      <th></th>\n",
       "      <th>user_id</th>\n",
       "      <th>Location</th>\n",
       "      <th>Age</th>\n",
       "      <th>User_ID_numeric</th>\n",
       "    </tr>\n",
       "  </thead>\n",
       "  <tbody>\n",
       "    <tr>\n",
       "      <th>0</th>\n",
       "      <td>1</td>\n",
       "      <td>nyc, new york, usa</td>\n",
       "      <td>32</td>\n",
       "      <td>0</td>\n",
       "    </tr>\n",
       "    <tr>\n",
       "      <th>1</th>\n",
       "      <td>2</td>\n",
       "      <td>stockton, california, usa</td>\n",
       "      <td>18</td>\n",
       "      <td>1</td>\n",
       "    </tr>\n",
       "    <tr>\n",
       "      <th>2</th>\n",
       "      <td>3</td>\n",
       "      <td>moscow, yukon territory, russia</td>\n",
       "      <td>32</td>\n",
       "      <td>2</td>\n",
       "    </tr>\n",
       "    <tr>\n",
       "      <th>3</th>\n",
       "      <td>4</td>\n",
       "      <td>porto, v.n.gaia, portugal</td>\n",
       "      <td>17</td>\n",
       "      <td>3</td>\n",
       "    </tr>\n",
       "    <tr>\n",
       "      <th>4</th>\n",
       "      <td>5</td>\n",
       "      <td>farnborough, hants, united kingdom</td>\n",
       "      <td>32</td>\n",
       "      <td>4</td>\n",
       "    </tr>\n",
       "    <tr>\n",
       "      <th>5</th>\n",
       "      <td>6</td>\n",
       "      <td>santa monica, california, usa</td>\n",
       "      <td>61</td>\n",
       "      <td>5</td>\n",
       "    </tr>\n",
       "    <tr>\n",
       "      <th>6</th>\n",
       "      <td>7</td>\n",
       "      <td>washington, dc, usa</td>\n",
       "      <td>32</td>\n",
       "      <td>6</td>\n",
       "    </tr>\n",
       "    <tr>\n",
       "      <th>7</th>\n",
       "      <td>8</td>\n",
       "      <td>timmins, ontario, canada</td>\n",
       "      <td>32</td>\n",
       "      <td>7</td>\n",
       "    </tr>\n",
       "    <tr>\n",
       "      <th>8</th>\n",
       "      <td>9</td>\n",
       "      <td>germantown, tennessee, usa</td>\n",
       "      <td>32</td>\n",
       "      <td>8</td>\n",
       "    </tr>\n",
       "    <tr>\n",
       "      <th>9</th>\n",
       "      <td>10</td>\n",
       "      <td>albacete, wisconsin, spain</td>\n",
       "      <td>26</td>\n",
       "      <td>9</td>\n",
       "    </tr>\n",
       "  </tbody>\n",
       "</table>\n",
       "</div>"
      ],
      "text/plain": [
       "   user_id                            Location  Age  User_ID_numeric\n",
       "0        1                  nyc, new york, usa   32                0\n",
       "1        2           stockton, california, usa   18                1\n",
       "2        3     moscow, yukon territory, russia   32                2\n",
       "3        4           porto, v.n.gaia, portugal   17                3\n",
       "4        5  farnborough, hants, united kingdom   32                4\n",
       "5        6       santa monica, california, usa   61                5\n",
       "6        7                 washington, dc, usa   32                6\n",
       "7        8            timmins, ontario, canada   32                7\n",
       "8        9          germantown, tennessee, usa   32                8\n",
       "9       10          albacete, wisconsin, spain   26                9"
      ]
     },
     "execution_count": 42,
     "metadata": {},
     "output_type": "execute_result"
    }
   ],
   "source": [
    "users.head(10)"
   ]
  },
  {
   "cell_type": "code",
   "execution_count": 43,
   "id": "23228b50-7c0d-47e0-b69b-3dd70b789010",
   "metadata": {},
   "outputs": [
    {
     "name": "stdout",
     "output_type": "stream",
     "text": [
      "<class 'pandas.core.frame.DataFrame'>\n",
      "RangeIndex: 271379 entries, 0 to 271378\n",
      "Data columns (total 6 columns):\n",
      " #   Column               Non-Null Count   Dtype \n",
      "---  ------               --------------   ----- \n",
      " 0   isbn                 271379 non-null  object\n",
      " 1   book_title           271379 non-null  object\n",
      " 2   book_author          271379 non-null  object\n",
      " 3   year_of_publication  271379 non-null  int32 \n",
      " 4   publisher            271379 non-null  object\n",
      " 5   ISBN_numeric         271379 non-null  int64 \n",
      "dtypes: int32(1), int64(1), object(4)\n",
      "memory usage: 11.4+ MB\n"
     ]
    }
   ],
   "source": [
    "books.info()"
   ]
  },
  {
   "cell_type": "code",
   "execution_count": 44,
   "id": "625c20c5-d9b6-4fe2-899b-c2c57c07df8b",
   "metadata": {},
   "outputs": [
    {
     "name": "stdout",
     "output_type": "stream",
     "text": [
      "<class 'pandas.core.frame.DataFrame'>\n",
      "Index: 277610 entries, 0 to 278858\n",
      "Data columns (total 4 columns):\n",
      " #   Column           Non-Null Count   Dtype \n",
      "---  ------           --------------   ----- \n",
      " 0   user_id          277610 non-null  int64 \n",
      " 1   Location         277610 non-null  object\n",
      " 2   Age              277610 non-null  int64 \n",
      " 3   User_ID_numeric  277610 non-null  int64 \n",
      "dtypes: int64(3), object(1)\n",
      "memory usage: 10.6+ MB\n"
     ]
    }
   ],
   "source": [
    "users.info()"
   ]
  },
  {
   "cell_type": "code",
   "execution_count": 45,
   "id": "9be9a2d7-8b0a-4967-b65b-d8151eea0926",
   "metadata": {},
   "outputs": [],
   "source": [
    "# Convert both user_id and ISBN to the ordered list in the ratings dataframe\n",
    "ratings['User_ID_numeric'] = ratings['user_id'].map(user_to_numeric)\n",
    "ratings['ISBN_numeric'] = ratings['isbn'].map(isbn_to_numeric)"
   ]
  },
  {
   "cell_type": "code",
   "execution_count": 46,
   "id": "9ad052d7-4157-4d54-91de-0a592af10099",
   "metadata": {},
   "outputs": [
    {
     "data": {
      "text/html": [
       "<div>\n",
       "<style scoped>\n",
       "    .dataframe tbody tr th:only-of-type {\n",
       "        vertical-align: middle;\n",
       "    }\n",
       "\n",
       "    .dataframe tbody tr th {\n",
       "        vertical-align: top;\n",
       "    }\n",
       "\n",
       "    .dataframe thead th {\n",
       "        text-align: right;\n",
       "    }\n",
       "</style>\n",
       "<table border=\"1\" class=\"dataframe\">\n",
       "  <thead>\n",
       "    <tr style=\"text-align: right;\">\n",
       "      <th></th>\n",
       "      <th>user_id</th>\n",
       "      <th>isbn</th>\n",
       "      <th>rating</th>\n",
       "      <th>User_ID_numeric</th>\n",
       "      <th>ISBN_numeric</th>\n",
       "    </tr>\n",
       "  </thead>\n",
       "  <tbody>\n",
       "    <tr>\n",
       "      <th>0</th>\n",
       "      <td>276725</td>\n",
       "      <td>034545104X</td>\n",
       "      <td>0</td>\n",
       "      <td>275483.0</td>\n",
       "      <td>2966.0</td>\n",
       "    </tr>\n",
       "    <tr>\n",
       "      <th>1</th>\n",
       "      <td>276726</td>\n",
       "      <td>155061224</td>\n",
       "      <td>5</td>\n",
       "      <td>275484.0</td>\n",
       "      <td>225829.0</td>\n",
       "    </tr>\n",
       "    <tr>\n",
       "      <th>2</th>\n",
       "      <td>276727</td>\n",
       "      <td>446520802</td>\n",
       "      <td>0</td>\n",
       "      <td>275485.0</td>\n",
       "      <td>11054.0</td>\n",
       "    </tr>\n",
       "    <tr>\n",
       "      <th>3</th>\n",
       "      <td>276729</td>\n",
       "      <td>052165615X</td>\n",
       "      <td>3</td>\n",
       "      <td>275487.0</td>\n",
       "      <td>246854.0</td>\n",
       "    </tr>\n",
       "    <tr>\n",
       "      <th>4</th>\n",
       "      <td>276729</td>\n",
       "      <td>521795028</td>\n",
       "      <td>6</td>\n",
       "      <td>275487.0</td>\n",
       "      <td>246855.0</td>\n",
       "    </tr>\n",
       "    <tr>\n",
       "      <th>5</th>\n",
       "      <td>276733</td>\n",
       "      <td>2080674722</td>\n",
       "      <td>0</td>\n",
       "      <td>275491.0</td>\n",
       "      <td>123645.0</td>\n",
       "    </tr>\n",
       "    <tr>\n",
       "      <th>6</th>\n",
       "      <td>276736</td>\n",
       "      <td>3257224281</td>\n",
       "      <td>8</td>\n",
       "      <td>275494.0</td>\n",
       "      <td>NaN</td>\n",
       "    </tr>\n",
       "    <tr>\n",
       "      <th>7</th>\n",
       "      <td>276737</td>\n",
       "      <td>600570967</td>\n",
       "      <td>6</td>\n",
       "      <td>275495.0</td>\n",
       "      <td>NaN</td>\n",
       "    </tr>\n",
       "    <tr>\n",
       "      <th>8</th>\n",
       "      <td>276744</td>\n",
       "      <td>038550120X</td>\n",
       "      <td>7</td>\n",
       "      <td>275502.0</td>\n",
       "      <td>9295.0</td>\n",
       "    </tr>\n",
       "    <tr>\n",
       "      <th>9</th>\n",
       "      <td>276745</td>\n",
       "      <td>342310538</td>\n",
       "      <td>10</td>\n",
       "      <td>275503.0</td>\n",
       "      <td>NaN</td>\n",
       "    </tr>\n",
       "    <tr>\n",
       "      <th>10</th>\n",
       "      <td>276746</td>\n",
       "      <td>425115801</td>\n",
       "      <td>0</td>\n",
       "      <td>275504.0</td>\n",
       "      <td>2030.0</td>\n",
       "    </tr>\n",
       "    <tr>\n",
       "      <th>11</th>\n",
       "      <td>276746</td>\n",
       "      <td>449006522</td>\n",
       "      <td>0</td>\n",
       "      <td>275504.0</td>\n",
       "      <td>227.0</td>\n",
       "    </tr>\n",
       "    <tr>\n",
       "      <th>12</th>\n",
       "      <td>276746</td>\n",
       "      <td>553561618</td>\n",
       "      <td>0</td>\n",
       "      <td>275504.0</td>\n",
       "      <td>1004.0</td>\n",
       "    </tr>\n",
       "    <tr>\n",
       "      <th>13</th>\n",
       "      <td>276746</td>\n",
       "      <td>055356451X</td>\n",
       "      <td>0</td>\n",
       "      <td>275504.0</td>\n",
       "      <td>596.0</td>\n",
       "    </tr>\n",
       "    <tr>\n",
       "      <th>14</th>\n",
       "      <td>276746</td>\n",
       "      <td>786013990</td>\n",
       "      <td>0</td>\n",
       "      <td>275504.0</td>\n",
       "      <td>87284.0</td>\n",
       "    </tr>\n",
       "    <tr>\n",
       "      <th>15</th>\n",
       "      <td>276746</td>\n",
       "      <td>786014512</td>\n",
       "      <td>0</td>\n",
       "      <td>275504.0</td>\n",
       "      <td>30985.0</td>\n",
       "    </tr>\n",
       "    <tr>\n",
       "      <th>16</th>\n",
       "      <td>276747</td>\n",
       "      <td>60517794</td>\n",
       "      <td>9</td>\n",
       "      <td>275505.0</td>\n",
       "      <td>4779.0</td>\n",
       "    </tr>\n",
       "    <tr>\n",
       "      <th>17</th>\n",
       "      <td>276747</td>\n",
       "      <td>451192001</td>\n",
       "      <td>0</td>\n",
       "      <td>275505.0</td>\n",
       "      <td>25797.0</td>\n",
       "    </tr>\n",
       "    <tr>\n",
       "      <th>18</th>\n",
       "      <td>276747</td>\n",
       "      <td>609801279</td>\n",
       "      <td>0</td>\n",
       "      <td>275505.0</td>\n",
       "      <td>7154.0</td>\n",
       "    </tr>\n",
       "    <tr>\n",
       "      <th>19</th>\n",
       "      <td>276747</td>\n",
       "      <td>671537458</td>\n",
       "      <td>9</td>\n",
       "      <td>275505.0</td>\n",
       "      <td>1836.0</td>\n",
       "    </tr>\n",
       "    <tr>\n",
       "      <th>20</th>\n",
       "      <td>276747</td>\n",
       "      <td>679776818</td>\n",
       "      <td>8</td>\n",
       "      <td>275505.0</td>\n",
       "      <td>6276.0</td>\n",
       "    </tr>\n",
       "    <tr>\n",
       "      <th>21</th>\n",
       "      <td>276747</td>\n",
       "      <td>943066433</td>\n",
       "      <td>7</td>\n",
       "      <td>275505.0</td>\n",
       "      <td>246856.0</td>\n",
       "    </tr>\n",
       "    <tr>\n",
       "      <th>22</th>\n",
       "      <td>276747</td>\n",
       "      <td>1570231028</td>\n",
       "      <td>0</td>\n",
       "      <td>275505.0</td>\n",
       "      <td>71879.0</td>\n",
       "    </tr>\n",
       "    <tr>\n",
       "      <th>23</th>\n",
       "      <td>276747</td>\n",
       "      <td>1885408226</td>\n",
       "      <td>7</td>\n",
       "      <td>275505.0</td>\n",
       "      <td>246857.0</td>\n",
       "    </tr>\n",
       "    <tr>\n",
       "      <th>24</th>\n",
       "      <td>276748</td>\n",
       "      <td>747558167</td>\n",
       "      <td>6</td>\n",
       "      <td>275506.0</td>\n",
       "      <td>120681.0</td>\n",
       "    </tr>\n",
       "    <tr>\n",
       "      <th>25</th>\n",
       "      <td>276748</td>\n",
       "      <td>3442437407</td>\n",
       "      <td>0</td>\n",
       "      <td>275506.0</td>\n",
       "      <td>NaN</td>\n",
       "    </tr>\n",
       "    <tr>\n",
       "      <th>26</th>\n",
       "      <td>276751</td>\n",
       "      <td>033390804X</td>\n",
       "      <td>0</td>\n",
       "      <td>275509.0</td>\n",
       "      <td>NaN</td>\n",
       "    </tr>\n",
       "    <tr>\n",
       "      <th>27</th>\n",
       "      <td>276751</td>\n",
       "      <td>3596218098</td>\n",
       "      <td>8</td>\n",
       "      <td>275509.0</td>\n",
       "      <td>37679.0</td>\n",
       "    </tr>\n",
       "    <tr>\n",
       "      <th>28</th>\n",
       "      <td>276754</td>\n",
       "      <td>684867621</td>\n",
       "      <td>8</td>\n",
       "      <td>275512.0</td>\n",
       "      <td>1986.0</td>\n",
       "    </tr>\n",
       "    <tr>\n",
       "      <th>29</th>\n",
       "      <td>276755</td>\n",
       "      <td>451166892</td>\n",
       "      <td>5</td>\n",
       "      <td>275513.0</td>\n",
       "      <td>102.0</td>\n",
       "    </tr>\n",
       "    <tr>\n",
       "      <th>30</th>\n",
       "      <td>276760</td>\n",
       "      <td>8440682697</td>\n",
       "      <td>10</td>\n",
       "      <td>275518.0</td>\n",
       "      <td>NaN</td>\n",
       "    </tr>\n",
       "    <tr>\n",
       "      <th>31</th>\n",
       "      <td>276762</td>\n",
       "      <td>034544003X</td>\n",
       "      <td>0</td>\n",
       "      <td>275520.0</td>\n",
       "      <td>55443.0</td>\n",
       "    </tr>\n",
       "    <tr>\n",
       "      <th>32</th>\n",
       "      <td>276762</td>\n",
       "      <td>380000059</td>\n",
       "      <td>0</td>\n",
       "      <td>275520.0</td>\n",
       "      <td>246858.0</td>\n",
       "    </tr>\n",
       "    <tr>\n",
       "      <th>33</th>\n",
       "      <td>276762</td>\n",
       "      <td>380711524</td>\n",
       "      <td>5</td>\n",
       "      <td>275520.0</td>\n",
       "      <td>7818.0</td>\n",
       "    </tr>\n",
       "    <tr>\n",
       "      <th>34</th>\n",
       "      <td>276762</td>\n",
       "      <td>451167317</td>\n",
       "      <td>0</td>\n",
       "      <td>275520.0</td>\n",
       "      <td>6096.0</td>\n",
       "    </tr>\n",
       "    <tr>\n",
       "      <th>35</th>\n",
       "      <td>276762</td>\n",
       "      <td>451454952</td>\n",
       "      <td>0</td>\n",
       "      <td>275520.0</td>\n",
       "      <td>129377.0</td>\n",
       "    </tr>\n",
       "    <tr>\n",
       "      <th>36</th>\n",
       "      <td>276762</td>\n",
       "      <td>843920262</td>\n",
       "      <td>0</td>\n",
       "      <td>275520.0</td>\n",
       "      <td>246859.0</td>\n",
       "    </tr>\n",
       "    <tr>\n",
       "      <th>37</th>\n",
       "      <td>276762</td>\n",
       "      <td>3404122879</td>\n",
       "      <td>0</td>\n",
       "      <td>275520.0</td>\n",
       "      <td>173728.0</td>\n",
       "    </tr>\n",
       "    <tr>\n",
       "      <th>38</th>\n",
       "      <td>276762</td>\n",
       "      <td>3404182928</td>\n",
       "      <td>0</td>\n",
       "      <td>275520.0</td>\n",
       "      <td>246860.0</td>\n",
       "    </tr>\n",
       "    <tr>\n",
       "      <th>39</th>\n",
       "      <td>276762</td>\n",
       "      <td>3404611306</td>\n",
       "      <td>0</td>\n",
       "      <td>275520.0</td>\n",
       "      <td>NaN</td>\n",
       "    </tr>\n",
       "    <tr>\n",
       "      <th>40</th>\n",
       "      <td>276762</td>\n",
       "      <td>342662429</td>\n",
       "      <td>0</td>\n",
       "      <td>275520.0</td>\n",
       "      <td>NaN</td>\n",
       "    </tr>\n",
       "    <tr>\n",
       "      <th>41</th>\n",
       "      <td>276762</td>\n",
       "      <td>3426690179</td>\n",
       "      <td>0</td>\n",
       "      <td>275520.0</td>\n",
       "      <td>122976.0</td>\n",
       "    </tr>\n",
       "    <tr>\n",
       "      <th>42</th>\n",
       "      <td>276762</td>\n",
       "      <td>3442424216</td>\n",
       "      <td>0</td>\n",
       "      <td>275520.0</td>\n",
       "      <td>130765.0</td>\n",
       "    </tr>\n",
       "    <tr>\n",
       "      <th>43</th>\n",
       "      <td>276762</td>\n",
       "      <td>3442425573</td>\n",
       "      <td>0</td>\n",
       "      <td>275520.0</td>\n",
       "      <td>246861.0</td>\n",
       "    </tr>\n",
       "    <tr>\n",
       "      <th>44</th>\n",
       "      <td>276762</td>\n",
       "      <td>3453092007</td>\n",
       "      <td>8</td>\n",
       "      <td>275520.0</td>\n",
       "      <td>4884.0</td>\n",
       "    </tr>\n",
       "    <tr>\n",
       "      <th>45</th>\n",
       "      <td>276762</td>\n",
       "      <td>3453157745</td>\n",
       "      <td>0</td>\n",
       "      <td>275520.0</td>\n",
       "      <td>NaN</td>\n",
       "    </tr>\n",
       "    <tr>\n",
       "      <th>46</th>\n",
       "      <td>276762</td>\n",
       "      <td>3453176944</td>\n",
       "      <td>0</td>\n",
       "      <td>275520.0</td>\n",
       "      <td>208061.0</td>\n",
       "    </tr>\n",
       "    <tr>\n",
       "      <th>47</th>\n",
       "      <td>276762</td>\n",
       "      <td>3453185137</td>\n",
       "      <td>0</td>\n",
       "      <td>275520.0</td>\n",
       "      <td>246862.0</td>\n",
       "    </tr>\n",
       "    <tr>\n",
       "      <th>48</th>\n",
       "      <td>276762</td>\n",
       "      <td>3453185323</td>\n",
       "      <td>0</td>\n",
       "      <td>275520.0</td>\n",
       "      <td>NaN</td>\n",
       "    </tr>\n",
       "    <tr>\n",
       "      <th>49</th>\n",
       "      <td>276762</td>\n",
       "      <td>3453213025</td>\n",
       "      <td>3</td>\n",
       "      <td>275520.0</td>\n",
       "      <td>NaN</td>\n",
       "    </tr>\n",
       "  </tbody>\n",
       "</table>\n",
       "</div>"
      ],
      "text/plain": [
       "    user_id        isbn  rating  User_ID_numeric  ISBN_numeric\n",
       "0    276725  034545104X       0         275483.0        2966.0\n",
       "1    276726   155061224       5         275484.0      225829.0\n",
       "2    276727   446520802       0         275485.0       11054.0\n",
       "3    276729  052165615X       3         275487.0      246854.0\n",
       "4    276729   521795028       6         275487.0      246855.0\n",
       "5    276733  2080674722       0         275491.0      123645.0\n",
       "6    276736  3257224281       8         275494.0           NaN\n",
       "7    276737   600570967       6         275495.0           NaN\n",
       "8    276744  038550120X       7         275502.0        9295.0\n",
       "9    276745   342310538      10         275503.0           NaN\n",
       "10   276746   425115801       0         275504.0        2030.0\n",
       "11   276746   449006522       0         275504.0         227.0\n",
       "12   276746   553561618       0         275504.0        1004.0\n",
       "13   276746  055356451X       0         275504.0         596.0\n",
       "14   276746   786013990       0         275504.0       87284.0\n",
       "15   276746   786014512       0         275504.0       30985.0\n",
       "16   276747    60517794       9         275505.0        4779.0\n",
       "17   276747   451192001       0         275505.0       25797.0\n",
       "18   276747   609801279       0         275505.0        7154.0\n",
       "19   276747   671537458       9         275505.0        1836.0\n",
       "20   276747   679776818       8         275505.0        6276.0\n",
       "21   276747   943066433       7         275505.0      246856.0\n",
       "22   276747  1570231028       0         275505.0       71879.0\n",
       "23   276747  1885408226       7         275505.0      246857.0\n",
       "24   276748   747558167       6         275506.0      120681.0\n",
       "25   276748  3442437407       0         275506.0           NaN\n",
       "26   276751  033390804X       0         275509.0           NaN\n",
       "27   276751  3596218098       8         275509.0       37679.0\n",
       "28   276754   684867621       8         275512.0        1986.0\n",
       "29   276755   451166892       5         275513.0         102.0\n",
       "30   276760  8440682697      10         275518.0           NaN\n",
       "31   276762  034544003X       0         275520.0       55443.0\n",
       "32   276762   380000059       0         275520.0      246858.0\n",
       "33   276762   380711524       5         275520.0        7818.0\n",
       "34   276762   451167317       0         275520.0        6096.0\n",
       "35   276762   451454952       0         275520.0      129377.0\n",
       "36   276762   843920262       0         275520.0      246859.0\n",
       "37   276762  3404122879       0         275520.0      173728.0\n",
       "38   276762  3404182928       0         275520.0      246860.0\n",
       "39   276762  3404611306       0         275520.0           NaN\n",
       "40   276762   342662429       0         275520.0           NaN\n",
       "41   276762  3426690179       0         275520.0      122976.0\n",
       "42   276762  3442424216       0         275520.0      130765.0\n",
       "43   276762  3442425573       0         275520.0      246861.0\n",
       "44   276762  3453092007       8         275520.0        4884.0\n",
       "45   276762  3453157745       0         275520.0           NaN\n",
       "46   276762  3453176944       0         275520.0      208061.0\n",
       "47   276762  3453185137       0         275520.0      246862.0\n",
       "48   276762  3453185323       0         275520.0           NaN\n",
       "49   276762  3453213025       3         275520.0           NaN"
      ]
     },
     "execution_count": 46,
     "metadata": {},
     "output_type": "execute_result"
    }
   ],
   "source": [
    "ratings.head(50)"
   ]
  },
  {
   "cell_type": "code",
   "execution_count": 47,
   "id": "e6f84a61-76fe-4d13-8158-bec945ae0876",
   "metadata": {},
   "outputs": [
    {
     "name": "stdout",
     "output_type": "stream",
     "text": [
      "<class 'pandas.core.frame.DataFrame'>\n",
      "RangeIndex: 1048575 entries, 0 to 1048574\n",
      "Data columns (total 5 columns):\n",
      " #   Column           Non-Null Count    Dtype  \n",
      "---  ------           --------------    -----  \n",
      " 0   user_id          1048575 non-null  int64  \n",
      " 1   isbn             1048575 non-null  object \n",
      " 2   rating           1048575 non-null  int64  \n",
      " 3   User_ID_numeric  1042950 non-null  float64\n",
      " 4   ISBN_numeric     941148 non-null   float64\n",
      "dtypes: float64(2), int64(2), object(1)\n",
      "memory usage: 40.0+ MB\n"
     ]
    }
   ],
   "source": [
    "ratings.info()"
   ]
  },
  {
   "cell_type": "code",
   "execution_count": 48,
   "id": "2001264b-c851-48b9-b75b-7412bde49592",
   "metadata": {},
   "outputs": [
    {
     "data": {
      "text/plain": [
       "user_id                 0\n",
       "isbn                    0\n",
       "rating                  0\n",
       "User_ID_numeric      5625\n",
       "ISBN_numeric       107427\n",
       "dtype: int64"
      ]
     },
     "execution_count": 48,
     "metadata": {},
     "output_type": "execute_result"
    }
   ],
   "source": [
    "ratings.isnull().sum()"
   ]
  },
  {
   "cell_type": "code",
   "execution_count": 49,
   "id": "22e17ee6-da84-408a-91e7-fe7a01978401",
   "metadata": {},
   "outputs": [],
   "source": [
    "ratings['User_ID_numeric'].fillna(ratings['User_ID_numeric'].mean(), inplace=True)"
   ]
  },
  {
   "cell_type": "code",
   "execution_count": 50,
   "id": "694bcf91-a635-4cd8-a010-d7a706bf61fb",
   "metadata": {},
   "outputs": [],
   "source": [
    "ratings['ISBN_numeric'].fillna(ratings['ISBN_numeric'].mean(), inplace=True)"
   ]
  },
  {
   "cell_type": "code",
   "execution_count": 51,
   "id": "55092ab2-319e-41bf-b7b5-aea1063a6033",
   "metadata": {},
   "outputs": [
    {
     "data": {
      "text/plain": [
       "user_id            0\n",
       "isbn               0\n",
       "rating             0\n",
       "User_ID_numeric    0\n",
       "ISBN_numeric       0\n",
       "dtype: int64"
      ]
     },
     "execution_count": 51,
     "metadata": {},
     "output_type": "execute_result"
    }
   ],
   "source": [
    "ratings.isnull().sum()"
   ]
  },
  {
   "cell_type": "markdown",
   "id": "32eb08a5-b917-4de2-8d1b-038f6dab1682",
   "metadata": {},
   "source": [
    "# Re-index the columns to build a matrix\n",
    "ratings_matrix = ratings.pivot(index='User_ID_numeric', columns='ISBN_numeric', values='rating').fillna(0)"
   ]
  },
  {
   "cell_type": "code",
   "execution_count": 53,
   "id": "b74f7b92-5979-4a8c-bf0d-adaadba777c6",
   "metadata": {},
   "outputs": [],
   "source": [
    "# Split the data into training and testing sets\n",
    "train_data, test_data = train_test_split(ratings, test_size=0.2, random_state=42)"
   ]
  },
  {
   "cell_type": "code",
   "execution_count": 54,
   "id": "5281c655-c6b5-4ce2-bf03-5b4b9edb2bac",
   "metadata": {},
   "outputs": [],
   "source": [
    "# Making predictions (simple example using mean rating for prediction)\n",
    "# Note: This is a very basic example of a prediction model\n",
    "mean_rating = train_data.groupby('User_ID_numeric')['rating'].mean()\n",
    "predictions = test_data.copy()\n",
    "predictions['predicted_rating'] = test_data['User_ID_numeric'].map(mean_rating)"
   ]
  },
  {
   "cell_type": "code",
   "execution_count": 55,
   "id": "8aca66df-ec25-4f67-97ca-f16d96411598",
   "metadata": {},
   "outputs": [
    {
     "data": {
      "text/html": [
       "<div>\n",
       "<style scoped>\n",
       "    .dataframe tbody tr th:only-of-type {\n",
       "        vertical-align: middle;\n",
       "    }\n",
       "\n",
       "    .dataframe tbody tr th {\n",
       "        vertical-align: top;\n",
       "    }\n",
       "\n",
       "    .dataframe thead th {\n",
       "        text-align: right;\n",
       "    }\n",
       "</style>\n",
       "<table border=\"1\" class=\"dataframe\">\n",
       "  <thead>\n",
       "    <tr style=\"text-align: right;\">\n",
       "      <th></th>\n",
       "      <th>user_id</th>\n",
       "      <th>isbn</th>\n",
       "      <th>rating</th>\n",
       "      <th>User_ID_numeric</th>\n",
       "      <th>ISBN_numeric</th>\n",
       "      <th>predicted_rating</th>\n",
       "    </tr>\n",
       "  </thead>\n",
       "  <tbody>\n",
       "    <tr>\n",
       "      <th>781974</th>\n",
       "      <td>189334</td>\n",
       "      <td>874776945</td>\n",
       "      <td>0</td>\n",
       "      <td>188491.0</td>\n",
       "      <td>5503.0</td>\n",
       "      <td>2.431410</td>\n",
       "    </tr>\n",
       "    <tr>\n",
       "      <th>937737</th>\n",
       "      <td>227447</td>\n",
       "      <td>345435249</td>\n",
       "      <td>0</td>\n",
       "      <td>226423.0</td>\n",
       "      <td>1351.0</td>\n",
       "      <td>0.661874</td>\n",
       "    </tr>\n",
       "    <tr>\n",
       "      <th>907828</th>\n",
       "      <td>220586</td>\n",
       "      <td>888947216</td>\n",
       "      <td>9</td>\n",
       "      <td>219595.0</td>\n",
       "      <td>91205.0</td>\n",
       "      <td>4.500000</td>\n",
       "    </tr>\n",
       "    <tr>\n",
       "      <th>784628</th>\n",
       "      <td>189835</td>\n",
       "      <td>553234994</td>\n",
       "      <td>5</td>\n",
       "      <td>188988.0</td>\n",
       "      <td>172938.0</td>\n",
       "      <td>4.932741</td>\n",
       "    </tr>\n",
       "    <tr>\n",
       "      <th>662460</th>\n",
       "      <td>160735</td>\n",
       "      <td>61098760</td>\n",
       "      <td>0</td>\n",
       "      <td>160022.0</td>\n",
       "      <td>13442.0</td>\n",
       "      <td>1.782051</td>\n",
       "    </tr>\n",
       "  </tbody>\n",
       "</table>\n",
       "</div>"
      ],
      "text/plain": [
       "        user_id       isbn  rating  User_ID_numeric  ISBN_numeric  \\\n",
       "781974   189334  874776945       0         188491.0        5503.0   \n",
       "937737   227447  345435249       0         226423.0        1351.0   \n",
       "907828   220586  888947216       9         219595.0       91205.0   \n",
       "784628   189835  553234994       5         188988.0      172938.0   \n",
       "662460   160735   61098760       0         160022.0       13442.0   \n",
       "\n",
       "        predicted_rating  \n",
       "781974          2.431410  \n",
       "937737          0.661874  \n",
       "907828          4.500000  \n",
       "784628          4.932741  \n",
       "662460          1.782051  "
      ]
     },
     "execution_count": 55,
     "metadata": {},
     "output_type": "execute_result"
    }
   ],
   "source": [
    "predictions.head()"
   ]
  },
  {
   "cell_type": "code",
   "execution_count": 56,
   "id": "9be0e96e-5e02-4de2-ab33-ab6d31288da2",
   "metadata": {},
   "outputs": [
    {
     "data": {
      "text/plain": [
       "user_id                 0\n",
       "isbn                    0\n",
       "rating                  0\n",
       "User_ID_numeric         0\n",
       "ISBN_numeric            0\n",
       "predicted_rating    11787\n",
       "dtype: int64"
      ]
     },
     "execution_count": 56,
     "metadata": {},
     "output_type": "execute_result"
    }
   ],
   "source": [
    "predictions.isnull().sum()"
   ]
  },
  {
   "cell_type": "code",
   "execution_count": 57,
   "id": "42f8ca66-6c1c-4e7d-a3b8-8591c89b8db0",
   "metadata": {},
   "outputs": [],
   "source": [
    "# Fill missing predictions with the overall mean rating\n",
    "overall_mean_rating = train_data['rating'].mean()\n",
    "predictions['predicted_rating'].fillna(overall_mean_rating, inplace=True)"
   ]
  },
  {
   "cell_type": "code",
   "execution_count": 58,
   "id": "eabeda17-ebb7-4e75-9a0d-5ba560055db2",
   "metadata": {},
   "outputs": [
    {
     "data": {
      "text/plain": [
       "user_id             0\n",
       "isbn                0\n",
       "rating              0\n",
       "User_ID_numeric     0\n",
       "ISBN_numeric        0\n",
       "predicted_rating    0\n",
       "dtype: int64"
      ]
     },
     "execution_count": 58,
     "metadata": {},
     "output_type": "execute_result"
    }
   ],
   "source": [
    "predictions.isnull().sum()"
   ]
  },
  {
   "cell_type": "code",
   "execution_count": 59,
   "id": "a4f1fbf2-d036-4ba3-81cb-83ae414fca16",
   "metadata": {},
   "outputs": [
    {
     "name": "stdout",
     "output_type": "stream",
     "text": [
      "RMSE: 3.4378993143595578\n"
     ]
    }
   ],
   "source": [
    "# Evaluate the predictions using RMSE\n",
    "rmse = sqrt(mean_squared_error(test_data['rating'], predictions['predicted_rating']))\n",
    "print(f'RMSE: {rmse}')"
   ]
  },
  {
   "cell_type": "code",
   "execution_count": null,
   "id": "c7cb4b6e-f8db-4af4-9ece-423ccafd4a1d",
   "metadata": {},
   "outputs": [],
   "source": []
  }
 ],
 "metadata": {
  "kernelspec": {
   "display_name": "Python 3 (ipykernel)",
   "language": "python",
   "name": "python3"
  },
  "language_info": {
   "codemirror_mode": {
    "name": "ipython",
    "version": 3
   },
   "file_extension": ".py",
   "mimetype": "text/x-python",
   "name": "python",
   "nbconvert_exporter": "python",
   "pygments_lexer": "ipython3",
   "version": "3.10.11"
  }
 },
 "nbformat": 4,
 "nbformat_minor": 5
}
